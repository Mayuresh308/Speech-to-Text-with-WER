{
 "cells": [
  {
   "cell_type": "code",
   "execution_count": 1,
   "id": "568a3d10",
   "metadata": {},
   "outputs": [
    {
     "name": "stdout",
     "output_type": "stream",
     "text": [
      "Defaulting to user installation because normal site-packages is not writeable\n",
      "Requirement already satisfied: SpeechRecognition in c:\\users\\user\\appdata\\roaming\\python\\python39\\site-packages (3.10.3)\n",
      "Requirement already satisfied: requests>=2.26.0 in c:\\programdata\\anaconda3\\lib\\site-packages (from SpeechRecognition) (2.27.1)\n",
      "Requirement already satisfied: typing-extensions in c:\\programdata\\anaconda3\\lib\\site-packages (from SpeechRecognition) (4.1.1)\n",
      "Requirement already satisfied: urllib3<1.27,>=1.21.1 in c:\\programdata\\anaconda3\\lib\\site-packages (from requests>=2.26.0->SpeechRecognition) (1.26.9)\n",
      "Requirement already satisfied: charset-normalizer~=2.0.0 in c:\\programdata\\anaconda3\\lib\\site-packages (from requests>=2.26.0->SpeechRecognition) (2.0.4)\n",
      "Requirement already satisfied: idna<4,>=2.5 in c:\\programdata\\anaconda3\\lib\\site-packages (from requests>=2.26.0->SpeechRecognition) (3.3)\n",
      "Requirement already satisfied: certifi>=2017.4.17 in c:\\programdata\\anaconda3\\lib\\site-packages (from requests>=2.26.0->SpeechRecognition) (2021.10.8)\n"
     ]
    }
   ],
   "source": [
    "!pip install SpeechRecognition"
   ]
  },
  {
   "cell_type": "code",
   "execution_count": 1,
   "id": "6ece0956",
   "metadata": {},
   "outputs": [
    {
     "name": "stdout",
     "output_type": "stream",
     "text": [
      "Listening to audio file...\n",
      "Recognizing speech...\n",
      "Recognized text: my dear funny you feel these things a great deal too much I am most happy that you like the chain\n",
      "Your audio file contained the following text:\n",
      "my dear funny you feel these things a great deal too much I am most happy that you like the chain\n"
     ]
    }
   ],
   "source": [
    "import speech_recognition as sr\n",
    "\n",
    "def recognize_audio(audio_file):\n",
    "\n",
    "\n",
    "  # Use the recognizer object from SpeechRecognition\n",
    "  recognizer = sr.Recognizer()\n",
    "\n",
    "  # Open the audio file using sr.AudioFile\n",
    "  with sr.AudioFile(audio_file) as source:\n",
    "    print(\"Listening to audio file...\")\n",
    "    # Read the audio data from the context manager\n",
    "    audio_data = recognizer.record(source)\n",
    "\n",
    "  try:\n",
    "    print(\"Recognizing speech...\")\n",
    "    # Recognize speech using Google Speech Recognition (requires internet connection)\n",
    "    recognized_text = recognizer.recognize_google(audio_data)\n",
    "    print(\"Recognized text:\", recognized_text)\n",
    "    return recognized_text\n",
    "  except sr.UnknownValueError:\n",
    "    print(\"Could not understand audio\")\n",
    "  except sr.RequestError as e:\n",
    "    print(\"Could not request results from Google Speech Recognition service; {0}\".format(e))\n",
    "  return None\n",
    "\n",
    "# Example usage: Replace 'path/to/your/audio.wav' with the actual path\n",
    "audio_file = \"C:\\\\Users\\\\USER\\\\Downloads\\\\sampleThree.wav\"\n",
    "recognized_text = recognize_audio(audio_file)\n",
    "\n",
    "if recognized_text:\n",
    "  print(\"Your audio file contained the following text:\")\n",
    "  print(recognized_text)\n",
    "else:\n",
    "  print(\"Speech recognition failed.\")\n"
   ]
  },
  {
   "cell_type": "code",
   "execution_count": 22,
   "id": "e746392a",
   "metadata": {},
   "outputs": [
    {
     "data": {
      "text/plain": [
       "'my dear funny you feel these things a great deal too much I am most happy that you like the chain'"
      ]
     },
     "execution_count": 22,
     "metadata": {},
     "output_type": "execute_result"
    }
   ],
   "source": [
    "recognized_text"
   ]
  },
  {
   "cell_type": "code",
   "execution_count": null,
   "id": "717c4990",
   "metadata": {},
   "outputs": [],
   "source": [
    "# Word Error Rate"
   ]
  },
  {
   "cell_type": "code",
   "execution_count": null,
   "id": "541e626f",
   "metadata": {},
   "outputs": [],
   "source": [
    "# sample 1 : I like them round said Mary And they are exactly the color of the sky over the moor\n",
    "# sample 2 : Looking with a half fantastic curiosity to see whether the tender grass of early spring\n",
    "# sample 3 : My dear Fanny you feel these things a great deal too much I am most happy that you like the chain"
   ]
  },
  {
   "cell_type": "code",
   "execution_count": 5,
   "id": "25d94b39",
   "metadata": {},
   "outputs": [
    {
     "name": "stdout",
     "output_type": "stream",
     "text": [
      "Defaulting to user installation because normal site-packages is not writeable\n",
      "Requirement already satisfied: jiwer in c:\\users\\user\\appdata\\roaming\\python\\python39\\site-packages (3.0.3)\n",
      "Requirement already satisfied: click<9.0.0,>=8.1.3 in c:\\users\\user\\appdata\\roaming\\python\\python39\\site-packages (from jiwer) (8.1.7)\n",
      "Requirement already satisfied: rapidfuzz<4,>=3 in c:\\users\\user\\appdata\\roaming\\python\\python39\\site-packages (from jiwer) (3.8.1)\n",
      "Requirement already satisfied: colorama in c:\\programdata\\anaconda3\\lib\\site-packages (from click<9.0.0,>=8.1.3->jiwer) (0.4.4)\n",
      "Note: you may need to restart the kernel to use updated packages.\n"
     ]
    }
   ],
   "source": [
    "pip install jiwer"
   ]
  },
  {
   "cell_type": "code",
   "execution_count": 23,
   "id": "aac56b46",
   "metadata": {},
   "outputs": [
    {
     "name": "stdout",
     "output_type": "stream",
     "text": [
      "0.09523809523809523\n"
     ]
    }
   ],
   "source": [
    "from jiwer import wer\n",
    "\n",
    "if __name__ == \"__main__\":\n",
    "    reference = \"My dear Fanny you feel these things a great deal too much I am most happy that you like the chain\"\n",
    "    hypothesis = 'my dear funny you feel these things a great deal too much I am most happy that you like the chain'\n",
    "    print(wer(reference, hypothesis))"
   ]
  },
  {
   "cell_type": "code",
   "execution_count": 24,
   "id": "c41c7e77",
   "metadata": {},
   "outputs": [
    {
     "name": "stdout",
     "output_type": "stream",
     "text": [
      "0.09523809523809523\n"
     ]
    }
   ],
   "source": [
    "from jiwer import wer\n",
    "\n",
    "if __name__ == \"__main__\":\n",
    "    reference = \"My dear Fanny you feel these things a great deal too much I am most happy that you like the chain\"\n",
    "    hypothesis = recognized_text\n",
    "    print(wer(reference, hypothesis))"
   ]
  },
  {
   "cell_type": "code",
   "execution_count": null,
   "id": "3b922571",
   "metadata": {},
   "outputs": [],
   "source": []
  }
 ],
 "metadata": {
  "kernelspec": {
   "display_name": "Python 3 (ipykernel)",
   "language": "python",
   "name": "python3"
  },
  "language_info": {
   "codemirror_mode": {
    "name": "ipython",
    "version": 3
   },
   "file_extension": ".py",
   "mimetype": "text/x-python",
   "name": "python",
   "nbconvert_exporter": "python",
   "pygments_lexer": "ipython3",
   "version": "3.9.12"
  }
 },
 "nbformat": 4,
 "nbformat_minor": 5
}
